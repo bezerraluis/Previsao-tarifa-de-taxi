{
  "nbformat": 4,
  "nbformat_minor": 0,
  "metadata": {
    "colab": {
      "name": "corrida taxi.ipynb",
      "provenance": [],
      "toc_visible": true
    },
    "kernelspec": {
      "name": "python3",
      "display_name": "Python 3"
    }
  },
  "cells": [
    {
      "cell_type": "markdown",
      "metadata": {
        "id": "uXk9TcJ68CLj",
        "colab_type": "text"
      },
      "source": [
        "# Previsão de tarifa de táxi de Nova Iorque\n",
        "A base de dados foi extraída desta competição do Kaggle: https://www.kaggle.com/c/new-york-city-taxi-fare-prediction/overview. Abaixo a descrição:\n",
        "\n",
        "Nesta competição [...] você tem a tarefa de prever o valor da tarifa (inclusive pedágios) para uma corrida de táxi em Nova Iorque, dado os locais de partida e destino. Embora você possa obter uma estimativa básica baseada apenas na distância entre os dois pontos, isso resultará em um RMSE de 5 a 8, dependendo do modelo utilizado [...]. Seu desafio é ter resultados melhores do que esses usando técnicas de aprendizagem de máquina!\n",
        "\n",
        "São disponibilizados duas bases de dados:\n",
        "\n",
        "train.csv - Características de entrada e valor da taxa, que corresponde a base de dados de treinamento (aproximadamente 55M de linhas).\n",
        "test.csv - Características de entrada para a base de dados de teste (aproximadamente 10K linhas). O seu objetivo é prever a taxa para cada linha."
      ]
    },
    {
      "cell_type": "markdown",
      "metadata": {
        "id": "sOFvJxDl9IgQ",
        "colab_type": "text"
      },
      "source": [
        "## Instalação e importação das bibliotecas"
      ]
    },
    {
      "cell_type": "code",
      "metadata": {
        "id": "AROTX3Lx2jH2",
        "colab_type": "code",
        "colab": {
          "base_uri": "https://localhost:8080/",
          "height": 564
        },
        "outputId": "946542f6-c0af-4aa0-e77d-25a19a7b38f0"
      },
      "source": [
        "!apt-get install libgeos-3.5.0\n",
        "!apt-get install libgeos-dev\n",
        "!pip install https://github.com/matplotlib/basemap/archive/master.zip"
      ],
      "execution_count": null,
      "outputs": [
        {
          "output_type": "stream",
          "text": [
            "Reading package lists... Done\n",
            "Building dependency tree       \n",
            "Reading state information... Done\n",
            "E: Unable to locate package libgeos-3.5.0\n",
            "E: Couldn't find any package by glob 'libgeos-3.5.0'\n",
            "E: Couldn't find any package by regex 'libgeos-3.5.0'\n",
            "Reading package lists... Done\n",
            "Building dependency tree       \n",
            "Reading state information... Done\n",
            "libgeos-dev is already the newest version (3.6.2-1build2).\n",
            "The following package was automatically installed and is no longer required:\n",
            "  libnvidia-common-440\n",
            "Use 'apt autoremove' to remove it.\n",
            "0 upgraded, 0 newly installed, 0 to remove and 35 not upgraded.\n",
            "Collecting https://github.com/matplotlib/basemap/archive/master.zip\n",
            "  Using cached https://github.com/matplotlib/basemap/archive/master.zip\n",
            "Requirement already satisfied (use --upgrade to upgrade): basemap==1.2.1 from https://github.com/matplotlib/basemap/archive/master.zip in /usr/local/lib/python3.6/dist-packages\n",
            "Requirement already satisfied: matplotlib!=3.0.1,>=1.0.0 in /usr/local/lib/python3.6/dist-packages (from basemap==1.2.1) (3.2.2)\n",
            "Requirement already satisfied: numpy>=1.2.1 in /usr/local/lib/python3.6/dist-packages (from basemap==1.2.1) (1.18.5)\n",
            "Requirement already satisfied: pyproj>=1.9.3 in /usr/local/lib/python3.6/dist-packages (from basemap==1.2.1) (2.6.1.post1)\n",
            "Requirement already satisfied: pyshp>=1.2.0 in /usr/local/lib/python3.6/dist-packages (from basemap==1.2.1) (2.1.0)\n",
            "Requirement already satisfied: six in /usr/local/lib/python3.6/dist-packages (from basemap==1.2.1) (1.15.0)\n",
            "Requirement already satisfied: cycler>=0.10 in /usr/local/lib/python3.6/dist-packages (from matplotlib!=3.0.1,>=1.0.0->basemap==1.2.1) (0.10.0)\n",
            "Requirement already satisfied: kiwisolver>=1.0.1 in /usr/local/lib/python3.6/dist-packages (from matplotlib!=3.0.1,>=1.0.0->basemap==1.2.1) (1.2.0)\n",
            "Requirement already satisfied: python-dateutil>=2.1 in /usr/local/lib/python3.6/dist-packages (from matplotlib!=3.0.1,>=1.0.0->basemap==1.2.1) (2.8.1)\n",
            "Requirement already satisfied: pyparsing!=2.0.4,!=2.1.2,!=2.1.6,>=2.0.1 in /usr/local/lib/python3.6/dist-packages (from matplotlib!=3.0.1,>=1.0.0->basemap==1.2.1) (2.4.7)\n",
            "Building wheels for collected packages: basemap\n",
            "  Building wheel for basemap (setup.py) ... \u001b[?25l\u001b[?25hdone\n",
            "  Created wheel for basemap: filename=basemap-1.2.1-cp36-cp36m-linux_x86_64.whl size=121756177 sha256=68dc853f5bb7c123cead225ada1165eec5dc3b4e2065c4dfaba4632dd8fa4ce7\n",
            "  Stored in directory: /tmp/pip-ephem-wheel-cache-0w2mzyl9/wheels/98/4a/fc/ce719b75d97e646645c225f3332b1b217536100314922e9572\n",
            "Successfully built basemap\n"
          ],
          "name": "stdout"
        }
      ]
    },
    {
      "cell_type": "code",
      "metadata": {
        "ExecuteTime": {
          "end_time": "2019-04-10T00:49:57.897546Z",
          "start_time": "2019-04-10T00:49:26.000906Z"
        },
        "id": "4HIZqWT8WUQr",
        "colab_type": "code",
        "colab": {}
      },
      "source": [
        "import pandas as pd\n",
        "import numpy as np\n",
        "import random\n",
        "import zipfile\n",
        "from mpl_toolkits.basemap import Basemap\n",
        "import seaborn as sns\n",
        "import matplotlib.pyplot as plt\n",
        "%matplotlib inline\n",
        "from datetime import datetime\n",
        "from collections import Counter"
      ],
      "execution_count": null,
      "outputs": []
    },
    {
      "cell_type": "markdown",
      "metadata": {
        "id": "11HFfY9x9d3e",
        "colab_type": "text"
      },
      "source": [
        "## Montando drive e carregando  base de dados de treinamento"
      ]
    },
    {
      "cell_type": "code",
      "metadata": {
        "id": "KjSu7oZueIco",
        "colab_type": "code",
        "colab": {}
      },
      "source": [
        "#from google.colab import drive\n",
        "#drive.mount('/content/drive')"
      ],
      "execution_count": null,
      "outputs": []
    },
    {
      "cell_type": "code",
      "metadata": {
        "id": "9jrFrj_aeimy",
        "colab_type": "code",
        "colab": {}
      },
      "source": [
        "#dataset_path = '/content/drive/My Drive/DataSet/new-york-city-taxi-fare-prediction.zip'\n",
        "#zip_object = zipfile.ZipFile(file = dataset_path, mode = \"r\")\n",
        "#zip_object.extractall('./')\n",
        "#zip_object.close()"
      ],
      "execution_count": null,
      "outputs": []
    },
    {
      "cell_type": "code",
      "metadata": {
        "id": "IyNUi1hV9C_1",
        "colab_type": "code",
        "colab": {}
      },
      "source": [
        "#!head train.csv"
      ],
      "execution_count": null,
      "outputs": []
    },
    {
      "cell_type": "code",
      "metadata": {
        "id": "ie_AL50J9DIx",
        "colab_type": "code",
        "colab": {}
      },
      "source": [
        "#number_rows_infile = sum(1 for line in open('train.csv'))\n",
        "\n",
        "#number_rows_infile"
      ],
      "execution_count": null,
      "outputs": []
    },
    {
      "cell_type": "code",
      "metadata": {
        "id": "wELdXz6N9DO2",
        "colab_type": "code",
        "colab": {}
      },
      "source": [
        "#sample_size = 250000"
      ],
      "execution_count": null,
      "outputs": []
    },
    {
      "cell_type": "code",
      "metadata": {
        "id": "TD5GjmWv9DaC",
        "colab_type": "code",
        "colab": {}
      },
      "source": [
        "#random.seed(24)"
      ],
      "execution_count": null,
      "outputs": []
    },
    {
      "cell_type": "code",
      "metadata": {
        "id": "y-t5Wf6u9Dnd",
        "colab_type": "code",
        "colab": {}
      },
      "source": [
        "#skip_rows = sorted(random.sample(range(1,number_rows_infile +1 ),number_rows_infile - sample_size))"
      ],
      "execution_count": null,
      "outputs": []
    },
    {
      "cell_type": "code",
      "metadata": {
        "id": "oOKEeDzR9DmQ",
        "colab_type": "code",
        "colab": {}
      },
      "source": [
        "#len(skip_rows)"
      ],
      "execution_count": null,
      "outputs": []
    },
    {
      "cell_type": "markdown",
      "metadata": {
        "id": "sFTYXxDb1xHR",
        "colab_type": "text"
      },
      "source": [
        "## Salvando a amostra em um arquivo csv"
      ]
    },
    {
      "cell_type": "code",
      "metadata": {
        "id": "0D2wRYUG9Djf",
        "colab_type": "code",
        "colab": {}
      },
      "source": [
        "#train = pd.read_csv('train.csv',skiprows= skip_rows)"
      ],
      "execution_count": null,
      "outputs": []
    },
    {
      "cell_type": "code",
      "metadata": {
        "id": "fBI1so8L9DiY",
        "colab_type": "code",
        "colab": {}
      },
      "source": [
        "#train.shape"
      ],
      "execution_count": null,
      "outputs": []
    },
    {
      "cell_type": "code",
      "metadata": {
        "id": "xiRJrK829DhO",
        "colab_type": "code",
        "colab": {}
      },
      "source": [
        "#train.head()"
      ],
      "execution_count": null,
      "outputs": []
    },
    {
      "cell_type": "code",
      "metadata": {
        "id": "HWtzR1yH9DfR",
        "colab_type": "code",
        "colab": {}
      },
      "source": [
        "#train.to_csv('train_sample_' + str (sample_size) + '.csv', index= False)"
      ],
      "execution_count": null,
      "outputs": []
    },
    {
      "cell_type": "markdown",
      "metadata": {
        "id": "SQqzbJkg2ha5",
        "colab_type": "text"
      },
      "source": [
        "## Analise de dados"
      ]
    },
    {
      "cell_type": "code",
      "metadata": {
        "id": "5ZeMTlon9DYZ",
        "colab_type": "code",
        "colab": {}
      },
      "source": [
        "#train = pd.read_csv('train_sample_' + str(sample_size) + '.csv',\n",
        "                   # parse_dates = ['key', 'pickup_datetime'],\n",
        "                   # dtype = {'fare_amount': np.float32,\n",
        "                            # 'pickup_latitude': np.float32,\n",
        "                            # 'pickup_longitude': np.float32,\n",
        "                            # 'dropoff_latitude': np.float32,\n",
        "                            # 'dropoff_longitude': np.float32,\n",
        "                            # 'passenger_count': np.int32             \n",
        "                    })"
      ],
      "execution_count": null,
      "outputs": []
    },
    {
      "cell_type": "markdown",
      "metadata": {
        "id": "crGM6-TZCd4B",
        "colab_type": "text"
      },
      "source": [
        "Carregando dados "
      ]
    },
    {
      "cell_type": "code",
      "metadata": {
        "id": "-AMlTzhXvSoa",
        "colab_type": "code",
        "colab": {}
      },
      "source": [
        "train = pd.read_csv('/content/drive/My Drive/DataSet/train_sample_250000.csv',\n",
        "                    parse_dates = ['key', 'pickup_datetime'],\n",
        "                    dtype = {'fare_amount': np.float32,\n",
        "                             'pickup_latitude': np.float32,\n",
        "                             'pickup_longitude': np.float32,\n",
        "                             'dropoff_latitude': np.float32,\n",
        "                             'dropoff_longitude': np.float32,\n",
        "                             'passenger_count': np.int32             \n",
        "                    })"
      ],
      "execution_count": null,
      "outputs": []
    },
    {
      "cell_type": "markdown",
      "metadata": {
        "id": "IltQuKIrCotv",
        "colab_type": "text"
      },
      "source": [
        "Visualizando os dados formatação e informações básicas "
      ]
    },
    {
      "cell_type": "code",
      "metadata": {
        "id": "0TUkscxP9DXI",
        "colab_type": "code",
        "colab": {}
      },
      "source": [
        "train.head()"
      ],
      "execution_count": null,
      "outputs": []
    },
    {
      "cell_type": "code",
      "metadata": {
        "id": "gQdVwV-I9DU1",
        "colab_type": "code",
        "colab": {}
      },
      "source": [
        "train.info()"
      ],
      "execution_count": null,
      "outputs": []
    },
    {
      "cell_type": "markdown",
      "metadata": {
        "id": "gN7eOUs_C7Zt",
        "colab_type": "text"
      },
      "source": [
        "Não temos valores nulos para tatar "
      ]
    },
    {
      "cell_type": "code",
      "metadata": {
        "id": "0c3qWV4I9DMK",
        "colab_type": "code",
        "colab": {}
      },
      "source": [
        "train.isna().sum()"
      ],
      "execution_count": null,
      "outputs": []
    },
    {
      "cell_type": "markdown",
      "metadata": {
        "id": "bpcrlSQKDSgu",
        "colab_type": "text"
      },
      "source": [
        "Vamos verificar o formato da nossa coluna key"
      ]
    },
    {
      "cell_type": "code",
      "metadata": {
        "id": "EC0qTV5Y9DHr",
        "colab_type": "code",
        "colab": {}
      },
      "source": [
        "key = train['key']"
      ],
      "execution_count": null,
      "outputs": []
    },
    {
      "cell_type": "code",
      "metadata": {
        "id": "t-qUbowh9DFk",
        "colab_type": "code",
        "colab": {}
      },
      "source": [
        "key.describe()"
      ],
      "execution_count": null,
      "outputs": []
    },
    {
      "cell_type": "markdown",
      "metadata": {
        "id": "GA2DCwNHD4kK",
        "colab_type": "text"
      },
      "source": [
        "Precisamos retirar os números depois dos segundo para os dados poderem ser trabalhados "
      ]
    },
    {
      "cell_type": "code",
      "metadata": {
        "id": "ObwWRQgr5Crs",
        "colab_type": "code",
        "colab": {}
      },
      "source": [
        "key.head()"
      ],
      "execution_count": null,
      "outputs": []
    },
    {
      "cell_type": "code",
      "metadata": {
        "id": "qVhcuYyI9DDi",
        "colab_type": "code",
        "colab": {}
      },
      "source": [
        "plt.hist(key);"
      ],
      "execution_count": null,
      "outputs": []
    },
    {
      "cell_type": "markdown",
      "metadata": {
        "id": "Loiq-UkcEMtP",
        "colab_type": "text"
      },
      "source": [
        "A coluna pickup datetime tem a mesma formatação da coluna key precisaremos também que remover os valores depois de segundos."
      ]
    },
    {
      "cell_type": "code",
      "metadata": {
        "id": "b3zv5ZPP9C-q",
        "colab_type": "code",
        "colab": {}
      },
      "source": [
        "datetime = train['pickup_datetime']"
      ],
      "execution_count": null,
      "outputs": []
    },
    {
      "cell_type": "code",
      "metadata": {
        "id": "AoH8GCLO2pq6",
        "colab_type": "code",
        "colab": {}
      },
      "source": [
        "datetime.describe()"
      ],
      "execution_count": null,
      "outputs": []
    },
    {
      "cell_type": "markdown",
      "metadata": {
        "id": "wIYTlZ9-3367",
        "colab_type": "text"
      },
      "source": [
        "Retirando as informacoes depois dos segundos "
      ]
    },
    {
      "cell_type": "code",
      "metadata": {
        "id": "tXAr3ZmJ2vqJ",
        "colab_type": "code",
        "colab": {}
      },
      "source": [
        "datetime = datetime.map(lambda date: date.tz_localize(None))"
      ],
      "execution_count": null,
      "outputs": []
    },
    {
      "cell_type": "code",
      "metadata": {
        "id": "BZrIPb6q3Awl",
        "colab_type": "code",
        "colab": {}
      },
      "source": [
        "datetime.head()"
      ],
      "execution_count": null,
      "outputs": []
    },
    {
      "cell_type": "markdown",
      "metadata": {
        "id": "yEAl_Nic6hsc",
        "colab_type": "text"
      },
      "source": [
        "Deixando colunas key com o formato data igual datetime"
      ]
    },
    {
      "cell_type": "code",
      "metadata": {
        "id": "8aC5Gw5726Kh",
        "colab_type": "code",
        "colab": {}
      },
      "source": [
        "key = pd.to_datetime(key.dt.strftime('%Y-%m-%d %H:%M:%S'))"
      ],
      "execution_count": null,
      "outputs": []
    },
    {
      "cell_type": "code",
      "metadata": {
        "id": "bzZ1jayz44za",
        "colab_type": "code",
        "colab": {}
      },
      "source": [
        "key.head()"
      ],
      "execution_count": null,
      "outputs": []
    },
    {
      "cell_type": "markdown",
      "metadata": {
        "id": "6SLuRfy36kdO",
        "colab_type": "text"
      },
      "source": [
        "Comparando coluna key e datetime para ver se são os duplicados e verificamos que são duplicados"
      ]
    },
    {
      "cell_type": "code",
      "metadata": {
        "id": "FzwmkJsY48mJ",
        "colab_type": "code",
        "colab": {}
      },
      "source": [
        "(key == datetime).value_counts()"
      ],
      "execution_count": null,
      "outputs": []
    },
    {
      "cell_type": "markdown",
      "metadata": {
        "id": "V17alrBZ7oa5",
        "colab_type": "text"
      },
      "source": [
        "Dropando a colunas Key duplicada"
      ]
    },
    {
      "cell_type": "code",
      "metadata": {
        "id": "NEaVnHgE6jiX",
        "colab_type": "code",
        "colab": {}
      },
      "source": [
        "train = train.drop(['key'],axis= 1)"
      ],
      "execution_count": null,
      "outputs": []
    },
    {
      "cell_type": "markdown",
      "metadata": {
        "id": "C73CW34E7t25",
        "colab_type": "text"
      },
      "source": [
        "Verificando o dataset e convertendo colunas pickup_datetime"
      ]
    },
    {
      "cell_type": "code",
      "metadata": {
        "id": "wyRYBppr5yBJ",
        "colab_type": "code",
        "colab": {}
      },
      "source": [
        "train.head()"
      ],
      "execution_count": null,
      "outputs": []
    },
    {
      "cell_type": "code",
      "metadata": {
        "id": "Cu7c8zcm7boP",
        "colab_type": "code",
        "colab": {}
      },
      "source": [
        "train['pickup_datetime'] = datetime"
      ],
      "execution_count": null,
      "outputs": []
    },
    {
      "cell_type": "code",
      "metadata": {
        "id": "X2YDYax37jJJ",
        "colab_type": "code",
        "colab": {}
      },
      "source": [
        "train.head()"
      ],
      "execution_count": null,
      "outputs": []
    },
    {
      "cell_type": "markdown",
      "metadata": {
        "id": "jB3idTzV8GiP",
        "colab_type": "text"
      },
      "source": [
        "Vamos verificar a distribuicao dos dados de latitude e longitude  "
      ]
    },
    {
      "cell_type": "code",
      "metadata": {
        "id": "Sg5Gsgfq7lKz",
        "colab_type": "code",
        "colab": {}
      },
      "source": [
        "pik_long = train['pickup_longitude']"
      ],
      "execution_count": null,
      "outputs": []
    },
    {
      "cell_type": "code",
      "metadata": {
        "id": "1jmA60o1yHY1",
        "colab_type": "code",
        "colab": {}
      },
      "source": [
        "pik_long.describe()"
      ],
      "execution_count": null,
      "outputs": []
    },
    {
      "cell_type": "code",
      "metadata": {
        "id": "peBuDdygyL87",
        "colab_type": "code",
        "colab": {}
      },
      "source": [
        "sns.boxplot(pik_long,)"
      ],
      "execution_count": null,
      "outputs": []
    },
    {
      "cell_type": "code",
      "metadata": {
        "id": "T45kTNyl2UQg",
        "colab_type": "code",
        "colab": {}
      },
      "source": [
        "plt.figure(figsize=(10,10))\n",
        "sns.distplot(pik_long);"
      ],
      "execution_count": null,
      "outputs": []
    },
    {
      "cell_type": "code",
      "metadata": {
        "id": "s6clAYjg70z6",
        "colab_type": "code",
        "colab": {}
      },
      "source": [
        ""
      ],
      "execution_count": null,
      "outputs": []
    },
    {
      "cell_type": "code",
      "metadata": {
        "colab_type": "code",
        "id": "vAK0IH7S714s",
        "colab": {}
      },
      "source": [
        "pik_long_val =(pik_long > pik_long.median()-0.5 )& (pik_long < pik_long.median()+0.5)"
      ],
      "execution_count": null,
      "outputs": []
    },
    {
      "cell_type": "code",
      "metadata": {
        "colab_type": "code",
        "id": "cY8BrbSy7146",
        "colab": {}
      },
      "source": [
        "pik_long_val.value_counts()"
      ],
      "execution_count": null,
      "outputs": []
    },
    {
      "cell_type": "markdown",
      "metadata": {
        "id": "hPuMPrhD9iLv",
        "colab_type": "text"
      },
      "source": [
        "É possível ver que nossos dados estão distribuidos entre -72 e -73 segundo os quartis  a mediana e distribuição nos gráficos , mas os valores máximo e mínimos estão bem fora da nossa distribuição"
      ]
    },
    {
      "cell_type": "code",
      "metadata": {
        "id": "MScN3TuXybNt",
        "colab_type": "code",
        "colab": {}
      },
      "source": [
        "pik_lat = train['pickup_latitude']"
      ],
      "execution_count": null,
      "outputs": []
    },
    {
      "cell_type": "code",
      "metadata": {
        "id": "EXowuVzi1r-6",
        "colab_type": "code",
        "colab": {}
      },
      "source": [
        "pik_lat.describe()"
      ],
      "execution_count": null,
      "outputs": []
    },
    {
      "cell_type": "code",
      "metadata": {
        "id": "qv8WYS6u2gv7",
        "colab_type": "code",
        "colab": {}
      },
      "source": [
        "sns.boxplot(pik_lat)"
      ],
      "execution_count": null,
      "outputs": []
    },
    {
      "cell_type": "code",
      "metadata": {
        "id": "W9GIN_9P1vil",
        "colab_type": "code",
        "colab": {}
      },
      "source": [
        "plt.figure(figsize=(10,10))\n",
        "sns.distplot(pik_lat)"
      ],
      "execution_count": null,
      "outputs": []
    },
    {
      "cell_type": "code",
      "metadata": {
        "id": "ThGei99B1-HO",
        "colab_type": "code",
        "colab": {}
      },
      "source": [
        "pik_lat_val =(pik_lat > pik_lat.median()-0.5 )& (pik_lat < pik_lat.median()+0.5)"
      ],
      "execution_count": null,
      "outputs": []
    },
    {
      "cell_type": "code",
      "metadata": {
        "id": "QK0emC3r3ue-",
        "colab_type": "code",
        "colab": {}
      },
      "source": [
        "pik_lat_val.value_counts()"
      ],
      "execution_count": null,
      "outputs": []
    },
    {
      "cell_type": "markdown",
      "metadata": {
        "colab_type": "text",
        "id": "dUtLQg1r-uRw"
      },
      "source": [
        "É possível ver que nossos dados estão distribuidosentre 39 e 40 segundo os quartis e a mediana , mas os valores máximo e mínimos estão bem fora da nossa distribuição"
      ]
    },
    {
      "cell_type": "code",
      "metadata": {
        "id": "3D69aedn3-3u",
        "colab_type": "code",
        "colab": {}
      },
      "source": [
        "drop = train['dropoff_latitude']"
      ],
      "execution_count": null,
      "outputs": []
    },
    {
      "cell_type": "code",
      "metadata": {
        "id": "qvxU2KzU5AaB",
        "colab_type": "code",
        "colab": {}
      },
      "source": [
        "drop.describe()"
      ],
      "execution_count": null,
      "outputs": []
    },
    {
      "cell_type": "code",
      "metadata": {
        "id": "mqNnCBaa5LJK",
        "colab_type": "code",
        "colab": {}
      },
      "source": [
        "sns.boxplot(drop)"
      ],
      "execution_count": null,
      "outputs": []
    },
    {
      "cell_type": "code",
      "metadata": {
        "id": "aagQQxMG5Cpr",
        "colab_type": "code",
        "colab": {}
      },
      "source": [
        "sns.distplot(drop)"
      ],
      "execution_count": null,
      "outputs": []
    },
    {
      "cell_type": "code",
      "metadata": {
        "id": "bcnS08cq5HW_",
        "colab_type": "code",
        "colab": {}
      },
      "source": [
        "drop_lat_val =(drop > drop.median()-0.5 )& (drop < drop.median()+0.5)"
      ],
      "execution_count": null,
      "outputs": []
    },
    {
      "cell_type": "code",
      "metadata": {
        "id": "4PjYp6iQ5o27",
        "colab_type": "code",
        "colab": {}
      },
      "source": [
        "drop_lat_val.value_counts()"
      ],
      "execution_count": null,
      "outputs": []
    },
    {
      "cell_type": "markdown",
      "metadata": {
        "colab_type": "text",
        "id": "P1Baz3tq-zh-"
      },
      "source": [
        "É possível ver que nossos dados estão distribuidosentre 39 e 40 segundo os quartis e a mediana , mas os valores máximo e mínimos estão bem fora da nossa distribuição"
      ]
    },
    {
      "cell_type": "code",
      "metadata": {
        "id": "q9jqsE8N5sBq",
        "colab_type": "code",
        "colab": {}
      },
      "source": [
        "drop_long = train['dropoff_longitude']"
      ],
      "execution_count": null,
      "outputs": []
    },
    {
      "cell_type": "code",
      "metadata": {
        "id": "CypouMHb6CaN",
        "colab_type": "code",
        "colab": {}
      },
      "source": [
        "drop_long.describe()"
      ],
      "execution_count": null,
      "outputs": []
    },
    {
      "cell_type": "code",
      "metadata": {
        "id": "JKW5rt8p6Fvm",
        "colab_type": "code",
        "colab": {}
      },
      "source": [
        "sns.boxplot(drop_long)"
      ],
      "execution_count": null,
      "outputs": []
    },
    {
      "cell_type": "code",
      "metadata": {
        "id": "SQdJ7cLf6XYT",
        "colab_type": "code",
        "colab": {}
      },
      "source": [
        "sns.distplot(drop_long)"
      ],
      "execution_count": null,
      "outputs": []
    },
    {
      "cell_type": "code",
      "metadata": {
        "colab_type": "code",
        "id": "OK6SOmoR6Sw6",
        "colab": {}
      },
      "source": [
        "drop_long_val =(drop_long> drop_long.median()-0.5 )& (drop_long < drop_long.median()+0.5)"
      ],
      "execution_count": null,
      "outputs": []
    },
    {
      "cell_type": "code",
      "metadata": {
        "id": "Dma0Auva64aa",
        "colab_type": "code",
        "colab": {}
      },
      "source": [
        "drop_long_val.value_counts()"
      ],
      "execution_count": null,
      "outputs": []
    },
    {
      "cell_type": "markdown",
      "metadata": {
        "colab_type": "text",
        "id": "Y4ZjoYJB-5Dk"
      },
      "source": [
        "É possível ver que nossos dados estão distribuidosentre -72 e -73 segundo os quartis e a mediana , mas os valores máximo e mínimos estão bem fora da nossa distribuição"
      ]
    },
    {
      "cell_type": "code",
      "metadata": {
        "id": "fnblCiKEr7Nw",
        "colab_type": "code",
        "colab": {}
      },
      "source": [
        ""
      ],
      "execution_count": null,
      "outputs": []
    },
    {
      "cell_type": "markdown",
      "metadata": {
        "id": "ZHS3Eqbfr6G-",
        "colab_type": "text"
      },
      "source": [
        "Vamos analizar a coluna passenger_count"
      ]
    },
    {
      "cell_type": "code",
      "metadata": {
        "id": "JhUh4S3m67nX",
        "colab_type": "code",
        "colab": {}
      },
      "source": [
        "passcount = train['passenger_count']"
      ],
      "execution_count": null,
      "outputs": []
    },
    {
      "cell_type": "code",
      "metadata": {
        "id": "Z26pnLc9rycC",
        "colab_type": "code",
        "colab": {}
      },
      "source": [
        "passcount.describe()"
      ],
      "execution_count": null,
      "outputs": []
    },
    {
      "cell_type": "markdown",
      "metadata": {
        "id": "KLOwqcPZsEiH",
        "colab_type": "text"
      },
      "source": [
        "Podemos ver que os dados se distribuem em torno de 1  a 2 passageiros que o mínimo e o máximo podem estar com valors errados pois com 0 passageiros não se faz corrida e com 208 passageiros é impossível em um táxi."
      ]
    },
    {
      "cell_type": "code",
      "metadata": {
        "id": "WvQl48Tqr06v",
        "colab_type": "code",
        "colab": {}
      },
      "source": [
        "sns.boxplot(passcount)"
      ],
      "execution_count": null,
      "outputs": []
    },
    {
      "cell_type": "markdown",
      "metadata": {
        "id": "cD1R9Bo6uYOl",
        "colab_type": "text"
      },
      "source": [
        "Podemos ver que temos menos de 1% dos valores da base de dados igual a zero então vamos optar por exclui los."
      ]
    },
    {
      "cell_type": "code",
      "metadata": {
        "id": "pDYa6KxftFeY",
        "colab_type": "code",
        "colab": {}
      },
      "source": [
        "print('Total',(passcount == 0).sum(),    'Porcentagem',(passcount == 0).mean())"
      ],
      "execution_count": null,
      "outputs": []
    },
    {
      "cell_type": "code",
      "metadata": {
        "id": "rJDP_RFQwoRH",
        "colab_type": "code",
        "colab": {}
      },
      "source": [
        "menos_20 = train.query('passenger_count <=20')\n",
        "menos_20.head()"
      ],
      "execution_count": null,
      "outputs": []
    },
    {
      "cell_type": "code",
      "metadata": {
        "id": "qVY_fxk2tiuj",
        "colab_type": "code",
        "colab": {}
      },
      "source": [
        "plt.hist(menos_20['passenger_count'],bins=100);"
      ],
      "execution_count": null,
      "outputs": []
    },
    {
      "cell_type": "markdown",
      "metadata": {
        "id": "4W0l8s0uyv_C",
        "colab_type": "text"
      },
      "source": [
        "Podemos ver que o número máximo de passageiros são 6 assim sendo valores maiores são outliers."
      ]
    },
    {
      "cell_type": "code",
      "metadata": {
        "colab_type": "code",
        "id": "wZMdZqHC8Oe7",
        "colab": {}
      },
      "source": [
        "passcount_val =((passcount>=1) & (passcount<=6))\n",
        "\n",
        "passcount_val.value_counts()"
      ],
      "execution_count": null,
      "outputs": []
    },
    {
      "cell_type": "markdown",
      "metadata": {
        "id": "cXx5JIZx0yfH",
        "colab_type": "text"
      },
      "source": [
        "Vamos verificar a coluna fare_amount"
      ]
    },
    {
      "cell_type": "code",
      "metadata": {
        "id": "DGC4VvcNwkNi",
        "colab_type": "code",
        "colab": {}
      },
      "source": [
        "fare = train['fare_amount']"
      ],
      "execution_count": null,
      "outputs": []
    },
    {
      "cell_type": "code",
      "metadata": {
        "id": "tXN6Qw1k06Rr",
        "colab_type": "code",
        "colab": {}
      },
      "source": [
        "fare.describe()"
      ],
      "execution_count": null,
      "outputs": []
    },
    {
      "cell_type": "code",
      "metadata": {
        "id": "w3oXaI6509B9",
        "colab_type": "code",
        "colab": {}
      },
      "source": [
        "plt.hist(fare[fare > 50],bins= 100);"
      ],
      "execution_count": null,
      "outputs": []
    },
    {
      "cell_type": "markdown",
      "metadata": {
        "id": "1Mk-zfZK2ST4",
        "colab_type": "text"
      },
      "source": [
        "Conseguimos vizualizar que o valores estão distribuidos entre 6 a 12.5 dolares , que os valores máximos e mínimos podem ser outliers. No histograma conseguimos ver que temos valores até próximo de 150 dolares então vamos trabalhar com esse valor máximo."
      ]
    },
    {
      "cell_type": "code",
      "metadata": {
        "id": "ioIx2xX91AsY",
        "colab_type": "code",
        "colab": {}
      },
      "source": [
        "plt.hist(fare[fare<=12.5],bins= 100);"
      ],
      "execution_count": null,
      "outputs": []
    },
    {
      "cell_type": "markdown",
      "metadata": {
        "id": "EJYFcRIo2oGk",
        "colab_type": "text"
      },
      "source": [
        "Fazendo um histograma para vermos somente os valores dentro da distribuição até 12.5 dolares conseguimos ver que temos valores de pouco abaixo de 2 dolares  a 12.5 dolares, vamos trabalhar com o valor mínimo de 2 dolares por ser taxi dificilmente o valor mínimo da corrida seja menor que isso."
      ]
    },
    {
      "cell_type": "code",
      "metadata": {
        "id": "i_ED2mss6orw",
        "colab_type": "code",
        "colab": {}
      },
      "source": [
        ""
      ],
      "execution_count": null,
      "outputs": []
    },
    {
      "cell_type": "code",
      "metadata": {
        "colab_type": "code",
        "id": "-n_f3Q3I3XQg",
        "colab": {}
      },
      "source": [
        "fare_value = (fare >2) & (fare<150)\n",
        "\n",
        "print(fare_value.value_counts(), fare_value.value_counts(normalize=True))\n"
      ],
      "execution_count": null,
      "outputs": []
    },
    {
      "cell_type": "markdown",
      "metadata": {
        "id": "5292QMtX6q79",
        "colab_type": "text"
      },
      "source": [
        "Podemos ver que os valores fora da faixa estabelecida de 2 a 150 dolares são menos de 1 % da base de dados totalizando 37 valores de 250 000"
      ]
    },
    {
      "cell_type": "code",
      "metadata": {
        "id": "sRcmLIK6DO2i",
        "colab_type": "code",
        "colab": {}
      },
      "source": [
        ""
      ],
      "execution_count": null,
      "outputs": []
    },
    {
      "cell_type": "markdown",
      "metadata": {
        "id": "aUz0-PYLDPdz",
        "colab_type": "text"
      },
      "source": [
        "Vamos concatenar todas as series que analizamos até o momento com os valores boleanos."
      ]
    },
    {
      "cell_type": "code",
      "metadata": {
        "id": "XQaOvYd54jC4",
        "colab_type": "code",
        "colab": {}
      },
      "source": [
        "valor_entr = pik_lat_val & pik_long_val & fare_value & passcount_val & drop_lat_val & drop_long_val"
      ],
      "execution_count": null,
      "outputs": []
    },
    {
      "cell_type": "code",
      "metadata": {
        "id": "nPuBg83oAVoi",
        "colab_type": "code",
        "colab": {}
      },
      "source": [
        "print(valor_entr.value_counts(), '\\n',valor_entr.value_counts(normalize= True))"
      ],
      "execution_count": null,
      "outputs": []
    },
    {
      "cell_type": "code",
      "metadata": {
        "id": "_osRHeUIDcY-",
        "colab_type": "code",
        "colab": {}
      },
      "source": [
        ""
      ],
      "execution_count": null,
      "outputs": []
    },
    {
      "cell_type": "markdown",
      "metadata": {
        "id": "Bgpak7GoDbC0",
        "colab_type": "text"
      },
      "source": [
        "Vamos dropar os valores outliers de todas as features que analisamos no dataset train"
      ]
    },
    {
      "cell_type": "code",
      "metadata": {
        "id": "JBk78XVFA-ym",
        "colab_type": "code",
        "colab": {}
      },
      "source": [
        "train = train.drop(valor_entr[valor_entr== False].index)"
      ],
      "execution_count": null,
      "outputs": []
    },
    {
      "cell_type": "code",
      "metadata": {
        "id": "mjiKJlEBCksJ",
        "colab_type": "code",
        "colab": {}
      },
      "source": [
        "train.head()"
      ],
      "execution_count": null,
      "outputs": []
    },
    {
      "cell_type": "code",
      "metadata": {
        "id": "NRbQdHwnC_6E",
        "colab_type": "code",
        "colab": {}
      },
      "source": [
        "train.shape"
      ],
      "execution_count": null,
      "outputs": []
    },
    {
      "cell_type": "markdown",
      "metadata": {
        "id": "ClEyCt22D3W6",
        "colab_type": "text"
      },
      "source": [
        "# Feature Engeneering"
      ]
    },
    {
      "cell_type": "markdown",
      "metadata": {
        "id": "yclxiHXzoQqP",
        "colab_type": "text"
      },
      "source": [
        "Criando uma nova coluna apenas com a hora de embarque"
      ]
    },
    {
      "cell_type": "code",
      "metadata": {
        "id": "ZU_gqv9iDByc",
        "colab_type": "code",
        "colab": {}
      },
      "source": [
        "train['hour_of_day'] = train['pickup_datetime'].map(lambda date : date.timetuple().tm_hour)"
      ],
      "execution_count": null,
      "outputs": []
    },
    {
      "cell_type": "code",
      "metadata": {
        "id": "GkF9on2_oLzz",
        "colab_type": "code",
        "colab": {}
      },
      "source": [
        "train.head()"
      ],
      "execution_count": null,
      "outputs": []
    },
    {
      "cell_type": "markdown",
      "metadata": {
        "id": "0VFnt4Yfpuvw",
        "colab_type": "text"
      },
      "source": [
        "Criando mais features, dia da semana , dia do ano e ano"
      ]
    },
    {
      "cell_type": "code",
      "metadata": {
        "id": "3-P5pY2KoOrm",
        "colab_type": "code",
        "colab": {}
      },
      "source": [
        "train['day_of_week'] = train['pickup_datetime'].map(lambda date : date.timetuple().tm_wday)\n",
        "train['day_of_year'] = train['pickup_datetime'].map(lambda date : date.timetuple().tm_yday)\n",
        "train['year'] = train['pickup_datetime'].map(lambda date : date.timetuple().tm_year)"
      ],
      "execution_count": null,
      "outputs": []
    },
    {
      "cell_type": "code",
      "metadata": {
        "id": "p-Jt80n6pgNr",
        "colab_type": "code",
        "colab": {}
      },
      "source": [
        "train.head()"
      ],
      "execution_count": null,
      "outputs": []
    },
    {
      "cell_type": "markdown",
      "metadata": {
        "id": "QkpJ6uXZsxAK",
        "colab_type": "text"
      },
      "source": [
        "Como estamos trabalhando com anos tem ano que é bi-sexto e não tem dia 29-02 temos que verificar , primeiro vamos verificar quantos registro temos nessa data."
      ]
    },
    {
      "cell_type": "code",
      "metadata": {
        "id": "LaAyS8RipjEP",
        "colab_type": "code",
        "colab": {}
      },
      "source": [
        "len(train['pickup_datetime'][train['pickup_datetime'].dt.strftime('%m-%d')=='02-29'])"
      ],
      "execution_count": null,
      "outputs": []
    },
    {
      "cell_type": "markdown",
      "metadata": {
        "id": "AdNZIp2htEDT",
        "colab_type": "text"
      },
      "source": [
        "Como temos apenas 117 registros de uma base de dados de quase 250 000 dados é mais prático apagar os registro do que verificar quais anos são bi-sextos"
      ]
    },
    {
      "cell_type": "code",
      "metadata": {
        "id": "zGwCDxBOsgw0",
        "colab_type": "code",
        "colab": {}
      },
      "source": [
        "train.drop(train['pickup_datetime'][train['pickup_datetime'].dt.strftime('%m-%d')=='02-29'].index ,inplace= True)"
      ],
      "execution_count": null,
      "outputs": []
    },
    {
      "cell_type": "code",
      "metadata": {
        "id": "Z-SVWqqCtlKv",
        "colab_type": "code",
        "colab": {}
      },
      "source": [
        "train.shape"
      ],
      "execution_count": null,
      "outputs": []
    },
    {
      "cell_type": "markdown",
      "metadata": {
        "id": "0fVn2Rpvuo0d",
        "colab_type": "text"
      },
      "source": [
        "Como apagamos a data 29-02 do ano de 2012 que é bi-sexto a contagem de dias da coluna day_of_year vai estar errada em 1 dia podemos alterar feriados e data e interfir na nossa predição. Quando chegar no dia 28-2-2012 que é o dia 59 o próximo dia que seria 01-03 -2012 vai se tornar o novo 59."
      ]
    },
    {
      "cell_type": "code",
      "metadata": {
        "id": "fsRGQnNAtoRJ",
        "colab_type": "code",
        "colab": {}
      },
      "source": [
        "condicao = (train['year']== 2012) & (train['day_of_year'] >59)\n",
        "\n",
        "train['day_of_year'] [condicao] = train['day_of_year'] -1"
      ],
      "execution_count": null,
      "outputs": []
    },
    {
      "cell_type": "markdown",
      "metadata": {
        "id": "JJjvJwnjVh09",
        "colab_type": "text"
      },
      "source": [
        "O ultimo ano da nossa base da dados é 2015 e podemos ver que não temos mais dados quando chegamos no dia 200 do ano então nossos dados de 2015 vai até metade do ano apenas."
      ]
    },
    {
      "cell_type": "code",
      "metadata": {
        "id": "jbMtxSg4WfrK",
        "colab_type": "code",
        "colab": {}
      },
      "source": [
        "train['year'].unique()"
      ],
      "execution_count": null,
      "outputs": []
    },
    {
      "cell_type": "code",
      "metadata": {
        "id": "Ubp043F3v8UC",
        "colab_type": "code",
        "colab": {}
      },
      "source": [
        "dados_2015 = train.query('day_of_year>180 and year == 2015')\n",
        "\n",
        "dados_2015.count()"
      ],
      "execution_count": null,
      "outputs": []
    },
    {
      "cell_type": "code",
      "metadata": {
        "colab_type": "code",
        "id": "BfoiXzyNV8Nv",
        "colab": {}
      },
      "source": [
        "dados_2015 = train.query('day_of_year>200 and year == 2015')\n",
        "\n",
        "dados_2015.count()"
      ],
      "execution_count": null,
      "outputs": []
    },
    {
      "cell_type": "code",
      "metadata": {
        "id": "lttY8wdMW-fz",
        "colab_type": "code",
        "colab": {}
      },
      "source": [
        ""
      ],
      "execution_count": null,
      "outputs": []
    },
    {
      "cell_type": "markdown",
      "metadata": {
        "id": "7GtnMNJkW_cl",
        "colab_type": "text"
      },
      "source": [
        "Vamos criar algumas visualizações retirando o ano de 2015 que não temos dados do ano todo então estamos visualizando os anos de 2009 a 2014"
      ]
    },
    {
      "cell_type": "code",
      "metadata": {
        "id": "hPkkf858SgwX",
        "colab_type": "code",
        "colab": {}
      },
      "source": [
        "fig ,ax = plt.subplots(1,4 , figsize = (20,4))\n",
        "train_not_2015 = train[train['year']<2015]\n",
        "ax[0].hist(train_not_2015['hour_of_day'],bins = 24)\n",
        "ax[0].set_title('Hour_of_day')\n",
        "ax[1].hist(train_not_2015['day_of_week'],bins = 7)\n",
        "ax[1].set_title('Day_of_week')\n",
        "ax[2].hist(train_not_2015['day_of_year'],bins = 365)\n",
        "ax[2].set_title('Day_of_year')\n",
        "ax[3].hist(train_not_2015['year'],bins = 6)\n",
        "ax[3].set_title('Year')"
      ],
      "execution_count": null,
      "outputs": []
    },
    {
      "cell_type": "markdown",
      "metadata": {
        "id": "nUKB9WaW8QRY",
        "colab_type": "text"
      },
      "source": [
        "Podemos ver que temos variações significativas tanto na hora do dia que o fluxo é bem menor até as 5 da manhã , dia da semana que o dia 6 e 0 são os de menores que são respectivamente domingo e sabado e o dia do ano na metade do ano e no final do ano diminui os volume de corrida apenas entre anos não temos tanta variação."
      ]
    },
    {
      "cell_type": "code",
      "metadata": {
        "id": "fxc9aFdzZT97",
        "colab_type": "code",
        "colab": {}
      },
      "source": [
        "plt.hist(train['pickup_datetime'],bins=24);"
      ],
      "execution_count": null,
      "outputs": []
    },
    {
      "cell_type": "markdown",
      "metadata": {
        "id": "1VNGy1_-CXN7",
        "colab_type": "text"
      },
      "source": [
        "Nesse scatter podemos ver que de 2009 até parte de 2012 temos praticamente uma linha de valores próximo de 50 o que poderia ser uma tarifa fixa para corridas tipo do aeroporto da o centro e vemos que a partir de 2013 essa linha sobre para próximo de 60 que poderia ser algum reajuste de valor "
      ]
    },
    {
      "cell_type": "code",
      "metadata": {
        "id": "cp4nSnHV98Xx",
        "colab_type": "code",
        "colab": {}
      },
      "source": [
        "plt.figure(figsize=(15, 5))\n",
        "plt.scatter(x=train['pickup_datetime'],y= train['fare_amount'],s = 1, alpha= 0.2)"
      ],
      "execution_count": null,
      "outputs": []
    },
    {
      "cell_type": "markdown",
      "metadata": {
        "id": "Xet54d4UIFuU",
        "colab_type": "text"
      },
      "source": [
        "Vamos fazer algumas seleções para conseguir visualizar melhor esses valors entre 40 e 60 e entender quais são eles e como se distribuem"
      ]
    },
    {
      "cell_type": "code",
      "metadata": {
        "id": "ctgZjGRd_ke4",
        "colab_type": "code",
        "colab": {}
      },
      "source": [
        "fare_zoom = train['fare_amount'][(train['fare_amount']>40) & (train['fare_amount']<60)]"
      ],
      "execution_count": null,
      "outputs": []
    },
    {
      "cell_type": "markdown",
      "metadata": {
        "id": "CTeV7XhMIVIO",
        "colab_type": "text"
      },
      "source": [
        "Temos 5993 valores entre 40 e 60 dolares "
      ]
    },
    {
      "cell_type": "code",
      "metadata": {
        "id": "fTPUip2aFCtv",
        "colab_type": "code",
        "colab": {}
      },
      "source": [
        "fare_zoom.shape"
      ],
      "execution_count": null,
      "outputs": []
    },
    {
      "cell_type": "markdown",
      "metadata": {
        "id": "YhpZy2QPIdAB",
        "colab_type": "text"
      },
      "source": [
        "Com o método Counter conseguimos ver a quantidade de cada valor na faixa que estamos buscando "
      ]
    },
    {
      "cell_type": "code",
      "metadata": {
        "id": "-7PZnlVDGbC9",
        "colab_type": "code",
        "colab": {}
      },
      "source": [
        "commom_fares_zoom = Counter(fare_zoom)"
      ],
      "execution_count": null,
      "outputs": []
    },
    {
      "cell_type": "code",
      "metadata": {
        "id": "Qd6KIyVsGi-h",
        "colab_type": "code",
        "colab": {}
      },
      "source": [
        "commom_fares_zoom"
      ],
      "execution_count": null,
      "outputs": []
    },
    {
      "cell_type": "markdown",
      "metadata": {
        "id": "mO0MJWnlIxlC",
        "colab_type": "text"
      },
      "source": [
        "E com o método most_commom conseguimos por exemplo visualizar os 10 valores que mais aparecem nessa faixa e a sua frequencia \n"
      ]
    },
    {
      "cell_type": "code",
      "metadata": {
        "id": "zEhDwX6JG3Lg",
        "colab_type": "code",
        "colab": {}
      },
      "source": [
        "most_commom_fares_zoom = commom_fares_zoom.most_common(10)"
      ],
      "execution_count": null,
      "outputs": []
    },
    {
      "cell_type": "code",
      "metadata": {
        "id": "GJaStkplGmkH",
        "colab_type": "code",
        "colab": {}
      },
      "source": [
        "most_commom_fares_zoom"
      ],
      "execution_count": null,
      "outputs": []
    },
    {
      "cell_type": "markdown",
      "metadata": {
        "id": "i_kwrrQsI_Ex",
        "colab_type": "text"
      },
      "source": [
        "Vamos plotar uma visualização da frequencia por os 10 valores mais frequentes "
      ]
    },
    {
      "cell_type": "code",
      "metadata": {
        "id": "RaFB-6bmHByo",
        "colab_type": "code",
        "colab": {}
      },
      "source": [
        "plt.bar([x[0] for x in most_commom_fares_zoom],[x[1] for x in most_commom_fares_zoom])"
      ],
      "execution_count": null,
      "outputs": []
    },
    {
      "cell_type": "markdown",
      "metadata": {
        "id": "5UOodAq_J9Dj",
        "colab_type": "text"
      },
      "source": [
        "Vemos que o valor mais frequente é na faixa de 57.5 e o menos frequente é na faixa de 40 "
      ]
    }
  ]
}